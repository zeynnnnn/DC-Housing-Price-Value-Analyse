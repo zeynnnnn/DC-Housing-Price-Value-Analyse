{
 "cells": [
  {
   "cell_type": "code",
   "execution_count": 1,
   "metadata": {},
   "outputs": [],
   "source": [
    "import numpy as np\n",
    "import pandas as pd"
   ]
  },
  {
   "cell_type": "code",
   "execution_count": 2,
   "metadata": {},
   "outputs": [
    {
     "name": "stderr",
     "output_type": "stream",
     "text": [
      "C:\\Users\\ASUS\\AppData\\Local\\Programs\\Python\\Python36-32\\lib\\site-packages\\IPython\\core\\interactiveshell.py:3049: DtypeWarning: Columns (18,19,20,21,22,23,24,33,34,35,37,43,45) have mixed types. Specify dtype option on import or set low_memory=False.\n",
      "  interactivity=interactivity, compiler=compiler, result=result)\n"
     ]
    }
   ],
   "source": [
    "data = pd.read_csv(\"DC_Properties.csv\")\n",
    "data = data.drop(columns=\"Unnamed: 0\")\n",
    "data = data.drop_duplicates()"
   ]
  },
  {
   "cell_type": "code",
   "execution_count": 3,
   "metadata": {},
   "outputs": [
    {
     "data": {
      "text/html": [
       "<div>\n",
       "<style scoped>\n",
       "    .dataframe tbody tr th:only-of-type {\n",
       "        vertical-align: middle;\n",
       "    }\n",
       "\n",
       "    .dataframe tbody tr th {\n",
       "        vertical-align: top;\n",
       "    }\n",
       "\n",
       "    .dataframe thead th {\n",
       "        text-align: right;\n",
       "    }\n",
       "</style>\n",
       "<table border=\"1\" class=\"dataframe\">\n",
       "  <thead>\n",
       "    <tr style=\"text-align: right;\">\n",
       "      <th></th>\n",
       "      <th>BATHRM</th>\n",
       "      <th>HF_BATHRM</th>\n",
       "      <th>HEAT</th>\n",
       "      <th>AC</th>\n",
       "      <th>NUM_UNITS</th>\n",
       "      <th>ROOMS</th>\n",
       "      <th>BEDRM</th>\n",
       "      <th>AYB</th>\n",
       "      <th>YR_RMDL</th>\n",
       "      <th>EYB</th>\n",
       "      <th>...</th>\n",
       "      <th>LONGITUDE</th>\n",
       "      <th>ASSESSMENT_NBHD</th>\n",
       "      <th>ASSESSMENT_SUBNBHD</th>\n",
       "      <th>CENSUS_TRACT</th>\n",
       "      <th>CENSUS_BLOCK</th>\n",
       "      <th>WARD</th>\n",
       "      <th>SQUARE</th>\n",
       "      <th>X</th>\n",
       "      <th>Y</th>\n",
       "      <th>QUADRANT</th>\n",
       "    </tr>\n",
       "  </thead>\n",
       "  <tbody>\n",
       "    <tr>\n",
       "      <th>0</th>\n",
       "      <td>4</td>\n",
       "      <td>0</td>\n",
       "      <td>Warm Cool</td>\n",
       "      <td>Y</td>\n",
       "      <td>2.0</td>\n",
       "      <td>8</td>\n",
       "      <td>4</td>\n",
       "      <td>1910.0</td>\n",
       "      <td>1988.0</td>\n",
       "      <td>1972</td>\n",
       "      <td>...</td>\n",
       "      <td>-77.040832</td>\n",
       "      <td>Old City 2</td>\n",
       "      <td>040 D Old City 2</td>\n",
       "      <td>4201.0</td>\n",
       "      <td>004201 2006</td>\n",
       "      <td>Ward 2</td>\n",
       "      <td>152</td>\n",
       "      <td>-77.040429</td>\n",
       "      <td>38.914881</td>\n",
       "      <td>NW</td>\n",
       "    </tr>\n",
       "    <tr>\n",
       "      <th>1</th>\n",
       "      <td>3</td>\n",
       "      <td>1</td>\n",
       "      <td>Warm Cool</td>\n",
       "      <td>Y</td>\n",
       "      <td>2.0</td>\n",
       "      <td>11</td>\n",
       "      <td>5</td>\n",
       "      <td>1898.0</td>\n",
       "      <td>2007.0</td>\n",
       "      <td>1972</td>\n",
       "      <td>...</td>\n",
       "      <td>-77.040764</td>\n",
       "      <td>Old City 2</td>\n",
       "      <td>040 D Old City 2</td>\n",
       "      <td>4201.0</td>\n",
       "      <td>004201 2006</td>\n",
       "      <td>Ward 2</td>\n",
       "      <td>152</td>\n",
       "      <td>-77.040429</td>\n",
       "      <td>38.914881</td>\n",
       "      <td>NW</td>\n",
       "    </tr>\n",
       "    <tr>\n",
       "      <th>2</th>\n",
       "      <td>3</td>\n",
       "      <td>1</td>\n",
       "      <td>Hot Water Rad</td>\n",
       "      <td>Y</td>\n",
       "      <td>2.0</td>\n",
       "      <td>9</td>\n",
       "      <td>5</td>\n",
       "      <td>1910.0</td>\n",
       "      <td>2009.0</td>\n",
       "      <td>1984</td>\n",
       "      <td>...</td>\n",
       "      <td>-77.040678</td>\n",
       "      <td>Old City 2</td>\n",
       "      <td>040 D Old City 2</td>\n",
       "      <td>4201.0</td>\n",
       "      <td>004201 2006</td>\n",
       "      <td>Ward 2</td>\n",
       "      <td>152</td>\n",
       "      <td>-77.040429</td>\n",
       "      <td>38.914881</td>\n",
       "      <td>NW</td>\n",
       "    </tr>\n",
       "    <tr>\n",
       "      <th>3</th>\n",
       "      <td>3</td>\n",
       "      <td>1</td>\n",
       "      <td>Hot Water Rad</td>\n",
       "      <td>Y</td>\n",
       "      <td>2.0</td>\n",
       "      <td>8</td>\n",
       "      <td>5</td>\n",
       "      <td>1900.0</td>\n",
       "      <td>2003.0</td>\n",
       "      <td>1984</td>\n",
       "      <td>...</td>\n",
       "      <td>-77.040629</td>\n",
       "      <td>Old City 2</td>\n",
       "      <td>040 D Old City 2</td>\n",
       "      <td>4201.0</td>\n",
       "      <td>004201 2006</td>\n",
       "      <td>Ward 2</td>\n",
       "      <td>152</td>\n",
       "      <td>-77.040429</td>\n",
       "      <td>38.914881</td>\n",
       "      <td>NW</td>\n",
       "    </tr>\n",
       "  </tbody>\n",
       "</table>\n",
       "<p>4 rows × 48 columns</p>\n",
       "</div>"
      ],
      "text/plain": [
       "   BATHRM  HF_BATHRM           HEAT AC  NUM_UNITS  ROOMS  BEDRM     AYB  \\\n",
       "0       4          0      Warm Cool  Y        2.0      8      4  1910.0   \n",
       "1       3          1      Warm Cool  Y        2.0     11      5  1898.0   \n",
       "2       3          1  Hot Water Rad  Y        2.0      9      5  1910.0   \n",
       "3       3          1  Hot Water Rad  Y        2.0      8      5  1900.0   \n",
       "\n",
       "   YR_RMDL   EYB  ...  LONGITUDE ASSESSMENT_NBHD  ASSESSMENT_SUBNBHD  \\\n",
       "0   1988.0  1972  ... -77.040832      Old City 2    040 D Old City 2   \n",
       "1   2007.0  1972  ... -77.040764      Old City 2    040 D Old City 2   \n",
       "2   2009.0  1984  ... -77.040678      Old City 2    040 D Old City 2   \n",
       "3   2003.0  1984  ... -77.040629      Old City 2    040 D Old City 2   \n",
       "\n",
       "  CENSUS_TRACT  CENSUS_BLOCK    WARD  SQUARE          X          Y QUADRANT  \n",
       "0       4201.0   004201 2006  Ward 2     152 -77.040429  38.914881       NW  \n",
       "1       4201.0   004201 2006  Ward 2     152 -77.040429  38.914881       NW  \n",
       "2       4201.0   004201 2006  Ward 2     152 -77.040429  38.914881       NW  \n",
       "3       4201.0   004201 2006  Ward 2     152 -77.040429  38.914881       NW  \n",
       "\n",
       "[4 rows x 48 columns]"
      ]
     },
     "execution_count": 3,
     "metadata": {},
     "output_type": "execute_result"
    }
   ],
   "source": [
    "data.loc[:3]"
   ]
  },
  {
   "cell_type": "code",
   "execution_count": 4,
   "metadata": {},
   "outputs": [],
   "source": [
    "data= data.dropna(subset= [\"ASSESSMENT_NBHD\",\"PRICE\"])"
   ]
  },
  {
   "cell_type": "code",
   "execution_count": 5,
   "metadata": {},
   "outputs": [
    {
     "data": {
      "text/plain": [
       "(97839, 48)"
      ]
     },
     "execution_count": 5,
     "metadata": {},
     "output_type": "execute_result"
    }
   ],
   "source": [
    "data.shape"
   ]
  },
  {
   "cell_type": "code",
   "execution_count": 6,
   "metadata": {},
   "outputs": [
    {
     "data": {
      "text/plain": [
       "Index(['BATHRM', 'HF_BATHRM', 'HEAT', 'AC', 'NUM_UNITS', 'ROOMS', 'BEDRM',\n",
       "       'AYB', 'YR_RMDL', 'EYB', 'STORIES', 'SALEDATE', 'PRICE', 'QUALIFIED',\n",
       "       'SALE_NUM', 'GBA', 'BLDG_NUM', 'STYLE', 'STRUCT', 'GRADE', 'CNDTN',\n",
       "       'EXTWALL', 'ROOF', 'INTWALL', 'KITCHENS', 'FIREPLACES', 'USECODE',\n",
       "       'LANDAREA', 'GIS_LAST_MOD_DTTM', 'SOURCE', 'CMPLX_NUM', 'LIVING_GBA',\n",
       "       'FULLADDRESS', 'CITY', 'STATE', 'ZIPCODE', 'NATIONALGRID', 'LATITUDE',\n",
       "       'LONGITUDE', 'ASSESSMENT_NBHD', 'ASSESSMENT_SUBNBHD', 'CENSUS_TRACT',\n",
       "       'CENSUS_BLOCK', 'WARD', 'SQUARE', 'X', 'Y', 'QUADRANT'],\n",
       "      dtype='object')"
      ]
     },
     "execution_count": 6,
     "metadata": {},
     "output_type": "execute_result"
    }
   ],
   "source": [
    "data.columns"
   ]
  },
  {
   "cell_type": "code",
   "execution_count": 7,
   "metadata": {},
   "outputs": [
    {
     "data": {
      "text/plain": [
       "20001.0"
      ]
     },
     "execution_count": 7,
     "metadata": {},
     "output_type": "execute_result"
    }
   ],
   "source": [
    "data[\"ZIPCODE\"].min()"
   ]
  },
  {
   "cell_type": "code",
   "execution_count": 8,
   "metadata": {},
   "outputs": [
    {
     "name": "stdout",
     "output_type": "stream",
     "text": [
      "57545\n",
      "2\n",
      "24\n",
      "56\n",
      "122\n"
     ]
    }
   ],
   "source": [
    "print(len(data[\"NATIONALGRID\"].unique()))\n",
    "print(len(data[\"STATE\"].unique()))\n",
    "print(len(data[\"ZIPCODE\"].unique()))\n",
    "print(len(data[\"ASSESSMENT_NBHD\"].unique()))\n",
    "print(len(data[\"ASSESSMENT_SUBNBHD\"].unique()))\n",
    "      "
   ]
  },
  {
   "cell_type": "code",
   "execution_count": 9,
   "metadata": {},
   "outputs": [
    {
     "data": {
      "text/plain": [
       "1.0"
      ]
     },
     "execution_count": 9,
     "metadata": {},
     "output_type": "execute_result"
    }
   ],
   "source": [
    "data[\"PRICE\"].min()"
   ]
  },
  {
   "cell_type": "code",
   "execution_count": 10,
   "metadata": {},
   "outputs": [
    {
     "data": {
      "text/plain": [
       "137427545.0"
      ]
     },
     "execution_count": 10,
     "metadata": {},
     "output_type": "execute_result"
    }
   ],
   "source": [
    "data[\"PRICE\"].max()"
   ]
  },
  {
   "cell_type": "code",
   "execution_count": 11,
   "metadata": {},
   "outputs": [
    {
     "data": {
      "text/plain": [
       "array(['Cleveland Park'], dtype=object)"
      ]
     },
     "execution_count": 11,
     "metadata": {},
     "output_type": "execute_result"
    }
   ],
   "source": [
    "most_expensive_house_neighborhoods=data[data[\"PRICE\"]==data[\"PRICE\"].max()][\"ASSESSMENT_NBHD\"].unique()\n",
    "most_expensive_house_neighborhoods"
   ]
  },
  {
   "cell_type": "code",
   "execution_count": 12,
   "metadata": {},
   "outputs": [
    {
     "data": {
      "text/plain": [
       "array(['Michigan Park', 'Congress Heights', 'Wakefield', 'Old City 2',\n",
       "       'Forest Hills'], dtype=object)"
      ]
     },
     "execution_count": 12,
     "metadata": {},
     "output_type": "execute_result"
    }
   ],
   "source": [
    "cheapest_house_neighborhoods=data[data[\"PRICE\"]==data[\"PRICE\"].min()][\"ASSESSMENT_NBHD\"].unique()\n",
    "cheapest_house_neighborhoods"
   ]
  },
  {
   "cell_type": "code",
   "execution_count": 13,
   "metadata": {},
   "outputs": [
    {
     "data": {
      "text/plain": [
       "5"
      ]
     },
     "execution_count": 13,
     "metadata": {},
     "output_type": "execute_result"
    }
   ],
   "source": [
    "len(cheapest_house_neighborhoods)"
   ]
  },
  {
   "cell_type": "code",
   "execution_count": 14,
   "metadata": {},
   "outputs": [
    {
     "data": {
      "text/plain": [
       "106"
      ]
     },
     "execution_count": 14,
     "metadata": {},
     "output_type": "execute_result"
    }
   ],
   "source": [
    "expensive_houses=data[data[\"PRICE\"]==data[\"PRICE\"].max()]\n",
    "len(expensive_houses)"
   ]
  },
  {
   "cell_type": "code",
   "execution_count": 15,
   "metadata": {},
   "outputs": [
    {
     "data": {
      "text/plain": [
       "ASSESSMENT_NBHD\n",
       "Cleveland Park                  8.664447e+06\n",
       "Massachusetts Avenue Heights    2.843360e+06\n",
       "Central-tri 3                   2.803065e+06\n",
       "Berkley                         1.475449e+06\n",
       "Spring Valley                   1.437520e+06\n",
       "Kent                            1.303143e+06\n",
       "Georgetown                      1.242148e+06\n",
       "Woodley                         1.205040e+06\n",
       "Burleith                        9.161758e+05\n",
       "North Cleveland Park            8.148067e+05\n",
       "American University             7.826738e+05\n",
       "Chevy Chase                     7.784790e+05\n",
       "Palisades                       7.712343e+05\n",
       "Kalorama                        7.637449e+05\n",
       "Crestwood                       7.588491e+05\n",
       "Hawthorne                       7.562643e+05\n",
       "Foxhall                         7.527684e+05\n",
       "Colonial Village                7.304522e+05\n",
       "Capitol Hill                    6.798746e+05\n",
       "Garfield                        6.715342e+05\n",
       "Observatory Circle              6.479867e+05\n",
       "Wesley Heights                  6.350419e+05\n",
       "Central-tri 1                   6.254234e+05\n",
       "Forest Hills                    6.151526e+05\n",
       "Mt. Pleasant                    5.652891e+05\n",
       "Shepherd Heights                5.627847e+05\n",
       "Barry Farms                     5.373894e+05\n",
       "Old City 2                      5.320759e+05\n",
       "Ledroit Park                    5.254076e+05\n",
       "Wakefield                       5.214880e+05\n",
       "Old City 1                      5.199488e+05\n",
       "Chillum                         5.057711e+05\n",
       "16th Street Heights             5.018281e+05\n",
       "Columbia Heights                4.994910e+05\n",
       "Foggy Bottom                    4.749099e+05\n",
       "Glover Park                     4.685924e+05\n",
       "Eckington                       4.604238e+05\n",
       "Brookland                       4.100676e+05\n",
       "Fort Lincoln                    4.086066e+05\n",
       "Petworth                        4.011495e+05\n",
       "Takoma Park                     3.970597e+05\n",
       "Brightwood                      3.841288e+05\n",
       "Michigan Park                   3.834957e+05\n",
       "Southwest Waterfront            3.811313e+05\n",
       "Woodridge                       3.498612e+05\n",
       "Trinidad                        3.278022e+05\n",
       "Riggs Park                      3.178910e+05\n",
       "Brentwood                       2.536692e+05\n",
       "Lily Ponds                      2.374335e+05\n",
       "Randle Heights                  2.345933e+05\n",
       "Anacostia                       2.334346e+05\n",
       "Hillcrest                       2.324849e+05\n",
       "Fort Dupont Park                2.282869e+05\n",
       "Congress Heights                2.225617e+05\n",
       "Marshall Heights                2.207447e+05\n",
       "Deanwood                        2.130390e+05\n",
       "Name: PRICE, dtype: float64"
      ]
     },
     "execution_count": 15,
     "metadata": {},
     "output_type": "execute_result"
    }
   ],
   "source": [
    "data.groupby([\"ASSESSMENT_NBHD\"])[\"PRICE\"].mean().sort_values(ascending=False)"
   ]
  },
  {
   "cell_type": "code",
   "execution_count": 16,
   "metadata": {},
   "outputs": [],
   "source": [
    "import matplotlib.pyplot as plt\n",
    "import numpy as np\n",
    "from matplotlib import colors\n",
    "from matplotlib.ticker import PercentFormatter"
   ]
  },
  {
   "cell_type": "code",
   "execution_count": 17,
   "metadata": {},
   "outputs": [],
   "source": [
    "plt.figure(figsize=(16,8))\n",
    "target_count = data.groupby([\"ASSESSMENT_NBHD\"])[\"PRICE\"].mean()\n",
    "target_count.plot(kind='bar', title='Neighborhood vs Mean Sale Price',grid=True, color='c')\n",
    "plt.xlabel('Neighborhoods')\n",
    "plt.ylabel('Price ($)')\n",
    "plt.tight_layout()\n"
   ]
  },
  {
   "cell_type": "code",
   "execution_count": 18,
   "metadata": {},
   "outputs": [],
   "source": [
    "\n",
    "plt.savefig(\"price_neighborhood.png\")\n",
    "plt.show()"
   ]
  },
  {
   "cell_type": "code",
   "execution_count": 19,
   "metadata": {},
   "outputs": [
    {
     "data": {
      "text/plain": [
       "count    9.783900e+04\n",
       "mean     7.205690e+05\n",
       "std      4.818861e+06\n",
       "min      1.000000e+00\n",
       "25%      2.400000e+05\n",
       "50%      3.999900e+05\n",
       "75%      6.500000e+05\n",
       "max      1.374275e+08\n",
       "Name: PRICE, dtype: float64"
      ]
     },
     "execution_count": 19,
     "metadata": {},
     "output_type": "execute_result"
    }
   ],
   "source": [
    "data[\"PRICE\"].describe()"
   ]
  },
  {
   "cell_type": "code",
   "execution_count": 20,
   "metadata": {},
   "outputs": [
    {
     "data": {
      "text/plain": [
       "count          97839\n",
       "unique            56\n",
       "top       Old City 2\n",
       "freq           11682\n",
       "Name: ASSESSMENT_NBHD, dtype: object"
      ]
     },
     "execution_count": 20,
     "metadata": {},
     "output_type": "execute_result"
    }
   ],
   "source": [
    "data[\"ASSESSMENT_NBHD\"].describe()"
   ]
  },
  {
   "cell_type": "code",
   "execution_count": 23,
   "metadata": {},
   "outputs": [
    {
     "name": "stderr",
     "output_type": "stream",
     "text": [
      "C:\\Users\\ASUS\\AppData\\Local\\Programs\\Python\\Python36-32\\lib\\site-packages\\scipy\\stats\\mstats_basic.py:1219: RuntimeWarning: overflow encountered in int_scalars\n",
      "  H = 12./(ntot*(ntot+1)) * (sumrk**2/ngrp).sum() - 3*(ntot+1)\n",
      "C:\\Users\\ASUS\\AppData\\Local\\Programs\\Python\\Python36-32\\lib\\site-packages\\scipy\\stats\\mstats_basic.py:1222: RuntimeWarning: overflow encountered in long_scalars\n",
      "  T = 1. - sum(v*(k**3-k) for (k,v) in iteritems(ties))/float(ntot**3-ntot)\n"
     ]
    },
    {
     "data": {
      "text/plain": [
       "(2020058.3005678204, 0.0)"
      ]
     },
     "execution_count": 23,
     "metadata": {},
     "output_type": "execute_result"
    }
   ],
   "source": [
    "df=pd.DataFrame()\n",
    "df['ASSESSMENT_NBHD']=data['ASSESSMENT_NBHD'].astype('category').cat.codes\n",
    "df[\"PRICE\"]=data[\"PRICE\"]\n",
    "\n",
    "from scipy.stats.mstats import kruskal\n",
    "allOf =[k.PRICE.array for k in [ df[df[\"ASSESSMENT_NBHD\"]==i]  for i in df.ASSESSMENT_NBHD.unique()] ]\n",
    "F, p = kruskal(  *allOf )                      \n",
    "F, p"
   ]
  },
  {
   "cell_type": "code",
   "execution_count": 24,
   "metadata": {},
   "outputs": [
    {
     "name": "stderr",
     "output_type": "stream",
     "text": [
      "C:\\Users\\ASUS\\AppData\\Local\\Programs\\Python\\Python36-32\\lib\\site-packages\\scipy\\stats\\morestats.py:1660: UserWarning: p-value may not be accurate for N > 5000.\n",
      "  warnings.warn(\"p-value may not be accurate for N > 5000.\")\n"
     ]
    },
    {
     "data": {
      "text/plain": [
       "11682"
      ]
     },
     "execution_count": 24,
     "metadata": {},
     "output_type": "execute_result"
    }
   ],
   "source": [
    "from scipy import stats\n",
    "stats.shapiro(allOf[0])\n",
    "len(allOf[0])"
   ]
  },
  {
   "cell_type": "code",
   "execution_count": null,
   "metadata": {},
   "outputs": [],
   "source": []
  }
 ],
 "metadata": {
  "kernelspec": {
   "display_name": "Python 3",
   "language": "python",
   "name": "python3"
  },
  "language_info": {
   "codemirror_mode": {
    "name": "ipython",
    "version": 3
   },
   "file_extension": ".py",
   "mimetype": "text/x-python",
   "name": "python",
   "nbconvert_exporter": "python",
   "pygments_lexer": "ipython3",
   "version": "3.6.5"
  }
 },
 "nbformat": 4,
 "nbformat_minor": 2
}
